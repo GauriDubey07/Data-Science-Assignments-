{
 "cells": [
  {
   "cell_type": "code",
   "execution_count": 5,
   "id": "427e490e-bebd-45e4-b634-245ee3caa578",
   "metadata": {},
   "outputs": [
    {
     "data": {
      "text/html": [
       "<div>\n",
       "<style scoped>\n",
       "    .dataframe tbody tr th:only-of-type {\n",
       "        vertical-align: middle;\n",
       "    }\n",
       "\n",
       "    .dataframe tbody tr th {\n",
       "        vertical-align: top;\n",
       "    }\n",
       "\n",
       "    .dataframe thead th {\n",
       "        text-align: right;\n",
       "    }\n",
       "</style>\n",
       "<table border=\"1\" class=\"dataframe\">\n",
       "  <thead>\n",
       "    <tr style=\"text-align: right;\">\n",
       "      <th></th>\n",
       "      <th>anime_id</th>\n",
       "      <th>name</th>\n",
       "      <th>genre</th>\n",
       "      <th>type</th>\n",
       "      <th>episodes</th>\n",
       "      <th>rating</th>\n",
       "      <th>members</th>\n",
       "    </tr>\n",
       "  </thead>\n",
       "  <tbody>\n",
       "    <tr>\n",
       "      <th>0</th>\n",
       "      <td>32281</td>\n",
       "      <td>Kimi no Na wa.</td>\n",
       "      <td>Drama, Romance, School, Supernatural</td>\n",
       "      <td>Movie</td>\n",
       "      <td>1</td>\n",
       "      <td>9.37</td>\n",
       "      <td>200630</td>\n",
       "    </tr>\n",
       "    <tr>\n",
       "      <th>1</th>\n",
       "      <td>5114</td>\n",
       "      <td>Fullmetal Alchemist: Brotherhood</td>\n",
       "      <td>Action, Adventure, Drama, Fantasy, Magic, Mili...</td>\n",
       "      <td>TV</td>\n",
       "      <td>64</td>\n",
       "      <td>9.26</td>\n",
       "      <td>793665</td>\n",
       "    </tr>\n",
       "    <tr>\n",
       "      <th>2</th>\n",
       "      <td>28977</td>\n",
       "      <td>Gintama°</td>\n",
       "      <td>Action, Comedy, Historical, Parody, Samurai, S...</td>\n",
       "      <td>TV</td>\n",
       "      <td>51</td>\n",
       "      <td>9.25</td>\n",
       "      <td>114262</td>\n",
       "    </tr>\n",
       "    <tr>\n",
       "      <th>3</th>\n",
       "      <td>9253</td>\n",
       "      <td>Steins;Gate</td>\n",
       "      <td>Sci-Fi, Thriller</td>\n",
       "      <td>TV</td>\n",
       "      <td>24</td>\n",
       "      <td>9.17</td>\n",
       "      <td>673572</td>\n",
       "    </tr>\n",
       "    <tr>\n",
       "      <th>4</th>\n",
       "      <td>9969</td>\n",
       "      <td>Gintama&amp;#039;</td>\n",
       "      <td>Action, Comedy, Historical, Parody, Samurai, S...</td>\n",
       "      <td>TV</td>\n",
       "      <td>51</td>\n",
       "      <td>9.16</td>\n",
       "      <td>151266</td>\n",
       "    </tr>\n",
       "  </tbody>\n",
       "</table>\n",
       "</div>"
      ],
      "text/plain": [
       "   anime_id                              name  \\\n",
       "0     32281                    Kimi no Na wa.   \n",
       "1      5114  Fullmetal Alchemist: Brotherhood   \n",
       "2     28977                          Gintama°   \n",
       "3      9253                       Steins;Gate   \n",
       "4      9969                     Gintama&#039;   \n",
       "\n",
       "                                               genre   type episodes  rating  \\\n",
       "0               Drama, Romance, School, Supernatural  Movie        1    9.37   \n",
       "1  Action, Adventure, Drama, Fantasy, Magic, Mili...     TV       64    9.26   \n",
       "2  Action, Comedy, Historical, Parody, Samurai, S...     TV       51    9.25   \n",
       "3                                   Sci-Fi, Thriller     TV       24    9.17   \n",
       "4  Action, Comedy, Historical, Parody, Samurai, S...     TV       51    9.16   \n",
       "\n",
       "   members  \n",
       "0   200630  \n",
       "1   793665  \n",
       "2   114262  \n",
       "3   673572  \n",
       "4   151266  "
      ]
     },
     "execution_count": 5,
     "metadata": {},
     "output_type": "execute_result"
    }
   ],
   "source": [
    "#loding dataset\n",
    "import pandas as pd\n",
    "file_path = r\"D:\\DS\\Recommendation System\\anime.csv\"\n",
    "anime_df = pd.read_csv(file_path)\n",
    "anime_df.head()\n"
   ]
  },
  {
   "cell_type": "code",
   "execution_count": 6,
   "id": "d03dd3f5-83ec-4f19-b9b0-098b8e79ad3f",
   "metadata": {},
   "outputs": [
    {
     "name": "stdout",
     "output_type": "stream",
     "text": [
      "anime_id      0\n",
      "name          0\n",
      "genre        62\n",
      "type         25\n",
      "episodes      0\n",
      "rating      230\n",
      "members       0\n",
      "dtype: int64\n"
     ]
    }
   ],
   "source": [
    "#handling missing value\n",
    "missing_values = anime_df.isnull().sum()\n",
    "print(missing_values)\n",
    "\n",
    "anime_df = anime_df.dropna()"
   ]
  },
  {
   "cell_type": "code",
   "execution_count": 7,
   "id": "d1f9bdb0-6e01-49ad-8eeb-269f519e1b4f",
   "metadata": {},
   "outputs": [
    {
     "name": "stdout",
     "output_type": "stream",
     "text": [
      "<class 'pandas.core.frame.DataFrame'>\n",
      "Index: 12017 entries, 0 to 12293\n",
      "Data columns (total 7 columns):\n",
      " #   Column    Non-Null Count  Dtype  \n",
      "---  ------    --------------  -----  \n",
      " 0   anime_id  12017 non-null  int64  \n",
      " 1   name      12017 non-null  object \n",
      " 2   genre     12017 non-null  object \n",
      " 3   type      12017 non-null  object \n",
      " 4   episodes  12017 non-null  object \n",
      " 5   rating    12017 non-null  float64\n",
      " 6   members   12017 non-null  int64  \n",
      "dtypes: float64(1), int64(2), object(4)\n",
      "memory usage: 751.1+ KB\n"
     ]
    },
    {
     "data": {
      "text/html": [
       "<div>\n",
       "<style scoped>\n",
       "    .dataframe tbody tr th:only-of-type {\n",
       "        vertical-align: middle;\n",
       "    }\n",
       "\n",
       "    .dataframe tbody tr th {\n",
       "        vertical-align: top;\n",
       "    }\n",
       "\n",
       "    .dataframe thead th {\n",
       "        text-align: right;\n",
       "    }\n",
       "</style>\n",
       "<table border=\"1\" class=\"dataframe\">\n",
       "  <thead>\n",
       "    <tr style=\"text-align: right;\">\n",
       "      <th></th>\n",
       "      <th>anime_id</th>\n",
       "      <th>rating</th>\n",
       "      <th>members</th>\n",
       "    </tr>\n",
       "  </thead>\n",
       "  <tbody>\n",
       "    <tr>\n",
       "      <th>count</th>\n",
       "      <td>12017.000000</td>\n",
       "      <td>12017.000000</td>\n",
       "      <td>1.201700e+04</td>\n",
       "    </tr>\n",
       "    <tr>\n",
       "      <th>mean</th>\n",
       "      <td>13638.001165</td>\n",
       "      <td>6.478264</td>\n",
       "      <td>1.834888e+04</td>\n",
       "    </tr>\n",
       "    <tr>\n",
       "      <th>std</th>\n",
       "      <td>11231.076675</td>\n",
       "      <td>1.023857</td>\n",
       "      <td>5.537250e+04</td>\n",
       "    </tr>\n",
       "    <tr>\n",
       "      <th>min</th>\n",
       "      <td>1.000000</td>\n",
       "      <td>1.670000</td>\n",
       "      <td>1.200000e+01</td>\n",
       "    </tr>\n",
       "    <tr>\n",
       "      <th>25%</th>\n",
       "      <td>3391.000000</td>\n",
       "      <td>5.890000</td>\n",
       "      <td>2.250000e+02</td>\n",
       "    </tr>\n",
       "    <tr>\n",
       "      <th>50%</th>\n",
       "      <td>9959.000000</td>\n",
       "      <td>6.570000</td>\n",
       "      <td>1.552000e+03</td>\n",
       "    </tr>\n",
       "    <tr>\n",
       "      <th>75%</th>\n",
       "      <td>23729.000000</td>\n",
       "      <td>7.180000</td>\n",
       "      <td>9.588000e+03</td>\n",
       "    </tr>\n",
       "    <tr>\n",
       "      <th>max</th>\n",
       "      <td>34519.000000</td>\n",
       "      <td>10.000000</td>\n",
       "      <td>1.013917e+06</td>\n",
       "    </tr>\n",
       "  </tbody>\n",
       "</table>\n",
       "</div>"
      ],
      "text/plain": [
       "           anime_id        rating       members\n",
       "count  12017.000000  12017.000000  1.201700e+04\n",
       "mean   13638.001165      6.478264  1.834888e+04\n",
       "std    11231.076675      1.023857  5.537250e+04\n",
       "min        1.000000      1.670000  1.200000e+01\n",
       "25%     3391.000000      5.890000  2.250000e+02\n",
       "50%     9959.000000      6.570000  1.552000e+03\n",
       "75%    23729.000000      7.180000  9.588000e+03\n",
       "max    34519.000000     10.000000  1.013917e+06"
      ]
     },
     "execution_count": 7,
     "metadata": {},
     "output_type": "execute_result"
    }
   ],
   "source": [
    "#getting the basic information of the data\n",
    "anime_df.info()\n",
    "\n",
    "#gettinf statistics summary\n",
    "anime_df.describe()"
   ]
  },
  {
   "cell_type": "code",
   "execution_count": 8,
   "id": "6d4031f7-0f4b-4f83-b293-ae35e1a96d22",
   "metadata": {},
   "outputs": [],
   "source": [
    "#Feature Extraction \n",
    "#Selecting the feature to use for computing similarilty \n",
    "#converting categorical features to nymerical\n",
    "#converting genre into one-hot encoded features\n",
    "genres_one_hot = anime_df['genre'].str.get_dummies(sep=',')\n",
    "anime_df = pd.concat([anime_df, genres_one_hot], axis=1)"
   ]
  },
  {
   "cell_type": "code",
   "execution_count": 9,
   "id": "174c6eec-eda2-4825-85ec-57f8d8a55dbf",
   "metadata": {},
   "outputs": [],
   "source": [
    "#recommendation system\n",
    "#compute cosine similarity\n",
    "from sklearn.metrics.pairwise import cosine_similarity\n",
    "\n",
    "features = genres_one_hot.columns.tolist() + ['rating']\n",
    "cosine_sim = cosine_similarity(anime_df[features])"
   ]
  },
  {
   "cell_type": "code",
   "execution_count": 18,
   "id": "ac11a62c-22fa-4a86-8c6f-08dab6b87e12",
   "metadata": {},
   "outputs": [
    {
     "name": "stdout",
     "output_type": "stream",
     "text": [
      "615                                    Naruto: Shippuuden\n",
      "1103    Boruto: Naruto the Movie - Naruto ga Hokage ni...\n",
      "486                              Boruto: Naruto the Movie\n",
      "1343                                          Naruto x UT\n",
      "1472          Naruto: Shippuuden Movie 4 - The Lost Tower\n",
      "1573    Naruto: Shippuuden Movie 3 - Hi no Ishi wo Tsu...\n",
      "2458                 Naruto Shippuuden: Sunny Side Battle\n",
      "2997    Naruto Soyokazeden Movie: Naruto to Mashin to ...\n",
      "175                                Katekyo Hitman Reborn!\n",
      "206                                         Dragon Ball Z\n",
      "Name: name, dtype: object\n"
     ]
    }
   ],
   "source": [
    "def recommend_anime(name, cosine_sim = cosine_sim, df=anime_df, num_recommendations=10):\n",
    "    #getting the index of the targeted anime \n",
    "    idx= df[df['name'] == name].index[0]\n",
    "    #getting similarity scores for all anime\n",
    "    sim_scores= list(enumerate(cosine_sim[idx]))\n",
    "    #sorting anime based on similarity scores\n",
    "    sim_scores= sorted(sim_scores, key=lambda x: x[1], reverse=True)\n",
    "    #getting the indices of the top recommendations\n",
    "    sim_scores = sim_scores[1:num_recommendations+1]\n",
    "    #getting the titles of the recommended anime\n",
    "    anime_indices = [i[0] for i in sim_scores]\n",
    "    return df['name'].iloc[anime_indices]\n",
    "\n",
    "#example anime similar to Naruto\n",
    "recommendations = recommend_anime('Naruto')\n",
    "print(recommendations)"
   ]
  },
  {
   "cell_type": "code",
   "execution_count": 20,
   "id": "a9c0c6ce-18f7-4c57-8542-f4cc19ae44fe",
   "metadata": {},
   "outputs": [],
   "source": [
    "from sklearn.model_selection import train_test_split\n",
    "\n",
    "# Split the dataset\n",
    "train_df, test_df = train_test_split(anime_df, test_size=0.2, random_state=42)\n"
   ]
  },
  {
   "cell_type": "code",
   "execution_count": 27,
   "id": "08d067b8-9575-45e1-bcde-5ded3142c1c0",
   "metadata": {
    "scrolled": true
   },
   "outputs": [
    {
     "name": "stdout",
     "output_type": "stream",
     "text": [
      "Precision: 0.0, Recall: 0.0, F1-score: 0\n"
     ]
    }
   ],
   "source": [
    "def evaluate_recommendations(target_name, true_names, k=10):\n",
    "    recommendations = recommend_anime(target_name, num_recommendations=k)\n",
    "    true_set = set(true_names)\n",
    "    recommended_set = set(recommendations)\n",
    "    \n",
    "    # Calculate precision, recall, and F1-score\n",
    "    precision = len(true_set & recommended_set) / len(recommended_set) if len(recommended_set) > 0 else 0\n",
    "    recall = len(true_set & recommended_set) / len(true_set) if len(true_set) > 0 else 0\n",
    "    f1 = 2 * (precision * recall) / (precision + recall) if (precision + recall) > 0 else 0\n",
    "    \n",
    "    return precision, recall, f1\n",
    "\n",
    "# Example: Evaluate recommendations for 'Naruto'\n",
    "precision, recall, f1 = evaluate_recommendations('Naruto', ['Bleach', 'One Piece', 'Fairy Tail'])\n",
    "print(f\"Precision: {precision}, Recall: {recall}, F1-score: {f1}\")"
   ]
  },
  {
   "cell_type": "markdown",
   "id": "14c34657-a47f-4e94-9404-f675fec1e43a",
   "metadata": {},
   "source": [
    "**Analysis of Recommendation System Performance**\n",
    "\n",
    "1. Current Performance : Good at identifying related titles but initial evaluation was flawed showing zero precision and recall\n",
    "2. Refined Evaluation : Use a relevant true set to improve precision and recall metics\n",
    "3. Improvements:\n",
    "   a. Diversify recommendations: include varied geners and themes\n",
    "   b. Feature engineering : Add user rating, reviewa and metadata\n",
    "   c. Hybrid Approach : combine with content-based filtering\n",
    "   d.Cold Start Solution : use demographic data ot intital surveys\n",
    "   e. Scalability : optimize for handling large datasets\n"
   ]
  },
  {
   "cell_type": "markdown",
   "id": "0d760340-f176-42ad-9c38-b67f4f2ef666",
   "metadata": {},
   "source": [
    "**Interview Questions:**\n",
    "1. Can you explain the difference between user-based and item-based collaborative filtering?\n",
    "2. What is collaborative filtering, and how does it work?"
   ]
  },
  {
   "cell_type": "markdown",
   "id": "353a5482-04c4-4281-bcee-a6770b3e6a4b",
   "metadata": {},
   "source": [
    "**Difference Between User-Based and Item-Based Collaborative filtering**\n",
    "\n",
    "***User-Based:***\n",
    "1. Concepts: recommends items based on similar users preferences\n",
    "2. Example : if user A and B have similar tastes, B will get recommendations frim A's Liked items\n",
    "3. Pros: Personalized can discover new items\n",
    "4. Cons: Scalability issues cold start problem for new users\n",
    "\n",
    "***Item-Based***\n",
    "1. Concepts: Recommends items similar to what a user has liked\n",
    "2. Example: if a user liked\"The Matrix\", they'll get recommendations for similar movies\n",
    "3. pros: More scalable effective for large datasets\n",
    "4. Cons: May miss novel recommendations needs substantial data"
   ]
  },
  {
   "cell_type": "markdown",
   "id": "064dccd0-0ecd-4462-bfc9-19cbae830475",
   "metadata": {},
   "source": [
    "***Collaborative filtering***\n",
    "1. concept : recommends items based on user prefernces by collecting data from multiple users\n",
    "2. How it works:\n",
    "   a. Data Collection : gather user interactions with items\n",
    "   b. Similarity calculation : find similaritirs between users or items\n",
    "   c.Prediction : recommend item liked by similar users or similar items\n",
    "   "
   ]
  },
  {
   "cell_type": "code",
   "execution_count": null,
   "id": "ba3dbacc-210a-4f0f-aeba-f90a08e5a1bc",
   "metadata": {},
   "outputs": [],
   "source": []
  }
 ],
 "metadata": {
  "kernelspec": {
   "display_name": "Python 3 (ipykernel)",
   "language": "python",
   "name": "python3"
  },
  "language_info": {
   "codemirror_mode": {
    "name": "ipython",
    "version": 3
   },
   "file_extension": ".py",
   "mimetype": "text/x-python",
   "name": "python",
   "nbconvert_exporter": "python",
   "pygments_lexer": "ipython3",
   "version": "3.12.3"
  }
 },
 "nbformat": 4,
 "nbformat_minor": 5
}
